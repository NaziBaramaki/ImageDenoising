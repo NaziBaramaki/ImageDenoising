{
  "nbformat": 4,
  "nbformat_minor": 0,
  "metadata": {
    "colab": {
      "provenance": [],
      "authorship_tag": "ABX9TyMEGn7BY4tknwkYvd0QOndv",
      "include_colab_link": true
    },
    "kernelspec": {
      "name": "python3",
      "display_name": "Python 3"
    },
    "language_info": {
      "name": "python"
    }
  },
  "cells": [
    {
      "cell_type": "markdown",
      "metadata": {
        "id": "view-in-github",
        "colab_type": "text"
      },
      "source": [
        "<a href=\"https://colab.research.google.com/github/NaziBaramaki/ImageDenoising/blob/main/diffusivity_with_Perona-Malik_Method.ipynb\" target=\"_parent\"><img src=\"https://colab.research.google.com/assets/colab-badge.svg\" alt=\"Open In Colab\"/></a>"
      ]
    },
    {
      "cell_type": "code",
      "execution_count": 1,
      "metadata": {
        "id": "9iFRcXIgQMyM"
      },
      "outputs": [],
      "source": [
        "import numpy as np\n",
        "from PIL import Image\n",
        "import matplotlib.pyplot as plt"
      ]
    },
    {
      "cell_type": "code",
      "source": [],
      "metadata": {
        "id": "DMlZ5EOlTMRq"
      },
      "execution_count": null,
      "outputs": []
    },
    {
      "cell_type": "code",
      "source": [
        "# Load the \"office\" image\n",
        "office_img = Image.open('office_image.png')\n",
        "office_img = np.array(office_img)\n",
        "\n",
        "# Compute the gradient magnitude\n",
        "grad_x = np.gradient(office_img, axis=1)\n",
        "grad_y = np.gradient(office_img, axis=0)\n",
        "grad_mag = np.sqrt(grad_x**2 + grad_y**2)\n",
        "\n",
        "# Set the lambda value\n",
        "lambda_val = 0.5\n",
        "\n",
        "# Compute the Perona-Malik diffusivity\n",
        "diffusivity = np.exp(-(grad_mag / lambda_val)**2)\n",
        "\n",
        "# Visualize the diffusivity as a grayscale image\n",
        "plt.figure(figsize=(8, 8))\n",
        "plt.imshow(diffusivity, cmap='gray')\n",
        "plt.title('Perona-Malik Diffusivity')\n",
        "plt.axis('off')\n",
        "plt.colorbar()\n",
        "plt.show()"
      ],
      "metadata": {
        "id": "PG8IriBBTJsr"
      },
      "execution_count": null,
      "outputs": []
    }
  ]
}